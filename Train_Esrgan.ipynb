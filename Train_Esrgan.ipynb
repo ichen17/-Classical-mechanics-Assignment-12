{
  "nbformat": 4,
  "nbformat_minor": 0,
  "metadata": {
    "colab": {
      "provenance": [],
      "gpuType": "T4",
      "include_colab_link": true
    },
    "kernelspec": {
      "name": "python3",
      "display_name": "Python 3"
    },
    "language_info": {
      "name": "python"
    },
    "accelerator": "GPU"
  },
  "cells": [
    {
      "cell_type": "markdown",
      "metadata": {
        "id": "view-in-github",
        "colab_type": "text"
      },
      "source": [
        "<a href=\"https://colab.research.google.com/github/ichen17/-Classical-mechanics-Assignment-12/blob/master/Train_Esrgan.ipynb\" target=\"_parent\"><img src=\"https://colab.research.google.com/assets/colab-badge.svg\" alt=\"Open In Colab\"/></a>"
      ]
    },
    {
      "cell_type": "markdown",
      "source": [
        "There two ways to upload the basicsr folder to colab. One is to drag the folder to files on left tab. Another is upoad your basicsr to your google drive and copy the directary to your colab like below."
      ],
      "metadata": {
        "id": "W0LsB1XQu6Qb"
      }
    },
    {
      "cell_type": "code",
      "execution_count": null,
      "metadata": {
        "colab": {
          "base_uri": "https://localhost:8080/"
        },
        "id": "YK65B4MHcJLD",
        "outputId": "48d30fb1-5919-4e9e-c059-b571a69c9f51"
      },
      "outputs": [
        {
          "output_type": "stream",
          "name": "stdout",
          "text": [
            "Mounted at /content/gdrive\n"
          ]
        }
      ],
      "source": [
        "from google.colab import drive\n",
        "drive.mount('/content/gdrive')"
      ]
    },
    {
      "cell_type": "code",
      "source": [
        "!mkdir /content/basicsr"
      ],
      "metadata": {
        "id": "2ud2eatTP8fX"
      },
      "execution_count": null,
      "outputs": []
    },
    {
      "cell_type": "code",
      "source": [
        "!cp -r /content/gdrive/MyDrive/basicsr/*   /content/basicsr"
      ],
      "metadata": {
        "id": "4pbko8ZQmjUi"
      },
      "execution_count": null,
      "outputs": []
    },
    {
      "cell_type": "markdown",
      "source": [
        "# Pytorch version"
      ],
      "metadata": {
        "id": "wGgQGWYfuv8S"
      }
    },
    {
      "cell_type": "code",
      "source": [
        "import torch\n",
        "print('Torch Version: ', torch.__version__)\n",
        "print('CUDA Version: ', torch.version.cuda)\n",
        "print('CUDNN Version: ', torch.backends.cudnn.version())\n",
        "print('CUDA Available:', torch.cuda.is_available())"
      ],
      "metadata": {
        "colab": {
          "base_uri": "https://localhost:8080/"
        },
        "id": "dxd5YcLydDig",
        "outputId": "9704b257-4207-4eef-8e56-ccf944316328"
      },
      "execution_count": null,
      "outputs": [
        {
          "output_type": "stream",
          "name": "stdout",
          "text": [
            "Torch Version:  2.0.1+cu118\n",
            "CUDA Version:  11.8\n",
            "CUDNN Version:  8700\n",
            "CUDA Available: True\n"
          ]
        }
      ]
    },
    {
      "cell_type": "markdown",
      "source": [
        "# Install required module\n",
        "Installing mmcv takes 40 mins to run."
      ],
      "metadata": {
        "id": "FaUPwbVBudNn"
      }
    },
    {
      "cell_type": "code",
      "source": [
        "! pip install mmcv-full"
      ],
      "metadata": {
        "colab": {
          "base_uri": "https://localhost:8080/"
        },
        "id": "uEUKjsob5qYy",
        "outputId": "34c584f6-e3c5-460b-9eba-1b8f3f2708fc"
      },
      "execution_count": null,
      "outputs": [
        {
          "output_type": "stream",
          "name": "stdout",
          "text": [
            "Collecting mmcv-full\n",
            "  Downloading mmcv-full-1.7.1.tar.gz (605 kB)\n",
            "\u001b[2K     \u001b[90m━━━━━━━━━━━━━━━━━━━━━━━━━━━━━━━━━━━━━━\u001b[0m \u001b[32m605.4/605.4 kB\u001b[0m \u001b[31m41.1 MB/s\u001b[0m eta \u001b[36m0:00:00\u001b[0m\n",
            "\u001b[?25h  Preparing metadata (setup.py) ... \u001b[?25l\u001b[?25hdone\n",
            "Collecting addict (from mmcv-full)\n",
            "  Downloading addict-2.4.0-py3-none-any.whl (3.8 kB)\n",
            "Requirement already satisfied: numpy in /usr/local/lib/python3.10/dist-packages (from mmcv-full) (1.22.4)\n",
            "Requirement already satisfied: packaging in /usr/local/lib/python3.10/dist-packages (from mmcv-full) (23.1)\n",
            "Requirement already satisfied: Pillow in /usr/local/lib/python3.10/dist-packages (from mmcv-full) (8.4.0)\n",
            "Requirement already satisfied: pyyaml in /usr/local/lib/python3.10/dist-packages (from mmcv-full) (6.0)\n",
            "Collecting yapf (from mmcv-full)\n",
            "  Downloading yapf-0.40.1-py3-none-any.whl (250 kB)\n",
            "\u001b[2K     \u001b[90m━━━━━━━━━━━━━━━━━━━━━━━━━━━━━━━━━━━━━━\u001b[0m \u001b[32m250.3/250.3 kB\u001b[0m \u001b[31m27.3 MB/s\u001b[0m eta \u001b[36m0:00:00\u001b[0m\n",
            "\u001b[?25hCollecting importlib-metadata>=6.6.0 (from yapf->mmcv-full)\n",
            "  Downloading importlib_metadata-6.8.0-py3-none-any.whl (22 kB)\n",
            "Requirement already satisfied: platformdirs>=3.5.1 in /usr/local/lib/python3.10/dist-packages (from yapf->mmcv-full) (3.8.1)\n",
            "Requirement already satisfied: tomli>=2.0.1 in /usr/local/lib/python3.10/dist-packages (from yapf->mmcv-full) (2.0.1)\n",
            "Requirement already satisfied: zipp>=0.5 in /usr/local/lib/python3.10/dist-packages (from importlib-metadata>=6.6.0->yapf->mmcv-full) (3.16.1)\n",
            "Building wheels for collected packages: mmcv-full\n",
            "  Building wheel for mmcv-full (setup.py) ... \u001b[?25l\u001b[?25hdone\n",
            "  Created wheel for mmcv-full: filename=mmcv_full-1.7.1-cp310-cp310-linux_x86_64.whl size=34514752 sha256=a76a92d4ce4f1cbf01a081f9da1c16c21db2ef0a4d8dc760b78f61d5f4df3796\n",
            "  Stored in directory: /root/.cache/pip/wheels/47/9a/65/470be18e21a8f2d085a024f0731508273543de0b5f79d9ddd4\n",
            "Successfully built mmcv-full\n",
            "Installing collected packages: addict, importlib-metadata, yapf, mmcv-full\n",
            "Successfully installed addict-2.4.0 importlib-metadata-6.8.0 mmcv-full-1.7.1 yapf-0.40.1\n"
          ]
        }
      ]
    },
    {
      "cell_type": "code",
      "source": [
        "!pip install wandb"
      ],
      "metadata": {
        "colab": {
          "base_uri": "https://localhost:8080/"
        },
        "id": "e9WK-Ip8iA_u",
        "outputId": "2e11b199-ad0e-40e7-c1c6-564a7b991b14"
      },
      "execution_count": null,
      "outputs": [
        {
          "output_type": "stream",
          "name": "stdout",
          "text": [
            "Collecting wandb\n",
            "  Downloading wandb-0.15.5-py3-none-any.whl (2.1 MB)\n",
            "\u001b[?25l     \u001b[90m━━━━━━━━━━━━━━━━━━━━━━━━━━━━━━━━━━━━━━━━\u001b[0m \u001b[32m0.0/2.1 MB\u001b[0m \u001b[31m?\u001b[0m eta \u001b[36m-:--:--\u001b[0m\r\u001b[2K     \u001b[90m━━━━━━━━━━━━━━━━━━━━━━━━━━━━━━━━━━━━━━━━\u001b[0m \u001b[32m2.1/2.1 MB\u001b[0m \u001b[31m77.7 MB/s\u001b[0m eta \u001b[36m0:00:00\u001b[0m\n",
            "\u001b[?25hRequirement already satisfied: Click!=8.0.0,>=7.1 in /usr/local/lib/python3.10/dist-packages (from wandb) (8.1.4)\n",
            "Collecting GitPython!=3.1.29,>=1.0.0 (from wandb)\n",
            "  Downloading GitPython-3.1.32-py3-none-any.whl (188 kB)\n",
            "\u001b[?25l     \u001b[90m━━━━━━━━━━━━━━━━━━━━━━━━━━━━━━━━━━━━━━━━\u001b[0m \u001b[32m0.0/188.5 kB\u001b[0m \u001b[31m?\u001b[0m eta \u001b[36m-:--:--\u001b[0m\r\u001b[2K     \u001b[90m━━━━━━━━━━━━━━━━━━━━━━━━━━━━━━━━━━━━━━\u001b[0m \u001b[32m188.5/188.5 kB\u001b[0m \u001b[31m21.2 MB/s\u001b[0m eta \u001b[36m0:00:00\u001b[0m\n",
            "\u001b[?25hRequirement already satisfied: requests<3,>=2.0.0 in /usr/local/lib/python3.10/dist-packages (from wandb) (2.27.1)\n",
            "Requirement already satisfied: psutil>=5.0.0 in /usr/local/lib/python3.10/dist-packages (from wandb) (5.9.5)\n",
            "Collecting sentry-sdk>=1.0.0 (from wandb)\n",
            "  Downloading sentry_sdk-1.28.1-py2.py3-none-any.whl (214 kB)\n",
            "\u001b[2K     \u001b[90m━━━━━━━━━━━━━━━━━━━━━━━━━━━━━━━━━━━━━━\u001b[0m \u001b[32m214.7/214.7 kB\u001b[0m \u001b[31m25.9 MB/s\u001b[0m eta \u001b[36m0:00:00\u001b[0m\n",
            "\u001b[?25hCollecting docker-pycreds>=0.4.0 (from wandb)\n",
            "  Downloading docker_pycreds-0.4.0-py2.py3-none-any.whl (9.0 kB)\n",
            "Requirement already satisfied: PyYAML in /usr/local/lib/python3.10/dist-packages (from wandb) (6.0)\n",
            "Collecting pathtools (from wandb)\n",
            "  Downloading pathtools-0.1.2.tar.gz (11 kB)\n",
            "  Preparing metadata (setup.py) ... \u001b[?25l\u001b[?25hdone\n",
            "Collecting setproctitle (from wandb)\n",
            "  Downloading setproctitle-1.3.2-cp310-cp310-manylinux_2_5_x86_64.manylinux1_x86_64.manylinux_2_17_x86_64.manylinux2014_x86_64.whl (30 kB)\n",
            "Requirement already satisfied: setuptools in /usr/local/lib/python3.10/dist-packages (from wandb) (67.7.2)\n",
            "Requirement already satisfied: appdirs>=1.4.3 in /usr/local/lib/python3.10/dist-packages (from wandb) (1.4.4)\n",
            "Requirement already satisfied: protobuf!=4.21.0,<5,>=3.19.0 in /usr/local/lib/python3.10/dist-packages (from wandb) (3.20.3)\n",
            "Requirement already satisfied: six>=1.4.0 in /usr/local/lib/python3.10/dist-packages (from docker-pycreds>=0.4.0->wandb) (1.16.0)\n",
            "Collecting gitdb<5,>=4.0.1 (from GitPython!=3.1.29,>=1.0.0->wandb)\n",
            "  Downloading gitdb-4.0.10-py3-none-any.whl (62 kB)\n",
            "\u001b[2K     \u001b[90m━━━━━━━━━━━━━━━━━━━━━━━━━━━━━━━━━━━━━━━━\u001b[0m \u001b[32m62.7/62.7 kB\u001b[0m \u001b[31m8.3 MB/s\u001b[0m eta \u001b[36m0:00:00\u001b[0m\n",
            "\u001b[?25hRequirement already satisfied: urllib3<1.27,>=1.21.1 in /usr/local/lib/python3.10/dist-packages (from requests<3,>=2.0.0->wandb) (1.26.16)\n",
            "Requirement already satisfied: certifi>=2017.4.17 in /usr/local/lib/python3.10/dist-packages (from requests<3,>=2.0.0->wandb) (2023.5.7)\n",
            "Requirement already satisfied: charset-normalizer~=2.0.0 in /usr/local/lib/python3.10/dist-packages (from requests<3,>=2.0.0->wandb) (2.0.12)\n",
            "Requirement already satisfied: idna<4,>=2.5 in /usr/local/lib/python3.10/dist-packages (from requests<3,>=2.0.0->wandb) (3.4)\n",
            "Collecting smmap<6,>=3.0.1 (from gitdb<5,>=4.0.1->GitPython!=3.1.29,>=1.0.0->wandb)\n",
            "  Downloading smmap-5.0.0-py3-none-any.whl (24 kB)\n",
            "Building wheels for collected packages: pathtools\n",
            "  Building wheel for pathtools (setup.py) ... \u001b[?25l\u001b[?25hdone\n",
            "  Created wheel for pathtools: filename=pathtools-0.1.2-py3-none-any.whl size=8791 sha256=fb9a91e3a6ac742640fa479ad2417506c0192914784dab4756d061f260efc1e7\n",
            "  Stored in directory: /root/.cache/pip/wheels/e7/f3/22/152153d6eb222ee7a56ff8617d80ee5207207a8c00a7aab794\n",
            "Successfully built pathtools\n",
            "Installing collected packages: pathtools, smmap, setproctitle, sentry-sdk, docker-pycreds, gitdb, GitPython, wandb\n",
            "Successfully installed GitPython-3.1.32 docker-pycreds-0.4.0 gitdb-4.0.10 pathtools-0.1.2 sentry-sdk-1.28.1 setproctitle-1.3.2 smmap-5.0.0 wandb-0.15.5\n"
          ]
        }
      ]
    },
    {
      "cell_type": "code",
      "source": [
        "!python basicsr/train.py -opt train_ESRGAN_WT_Pixel_x4.yml"
      ],
      "metadata": {
        "colab": {
          "base_uri": "https://localhost:8080/"
        },
        "id": "IVCtAsx1dXel",
        "outputId": "b2ebfe03-426f-44e3-83e6-e38596ee0767"
      },
      "execution_count": null,
      "outputs": [
        {
          "output_type": "stream",
          "name": "stdout",
          "text": [
            "/usr/local/lib/python3.10/dist-packages/mmcv/__init__.py:20: UserWarning: On January 1, 2023, MMCV will release v2.0.0, in which it will remove components related to the training process and add a data transformation module. In addition, it will rename the package names mmcv to mmcv-lite and mmcv-full to mmcv. See https://github.com/open-mmlab/mmcv/blob/master/docs/en/compatibility.md for more details.\n",
            "  warnings.warn(\n",
            "Disable distributed training.\n",
            "Path already exists. Rename it to /content/experiments/052_ESRGAN_WT_Pixel_x4_f64b23_ImageNet_400k_B16G2_051pretrain_wandb_archived_20230718_011649\n",
            "2023-07-18 01:16:49,787 INFO: \n",
            "                ____                _       _____  ____\n",
            "               / __ ) ____ _ _____ (_)_____/ ___/ / __ \\\n",
            "              / __  |/ __ `// ___// // ___/\\__ \\ / /_/ /\n",
            "             / /_/ // /_/ /(__  )/ // /__ ___/ // _, _/\n",
            "            /_____/ \\__,_//____//_/ \\___//____//_/ |_|\n",
            "     ______                   __   __                 __      __\n",
            "    / ____/____   ____   ____/ /  / /   __  __ _____ / /__   / /\n",
            "   / / __ / __ \\ / __ \\ / __  /  / /   / / / // ___// //_/  / /\n",
            "  / /_/ // /_/ // /_/ // /_/ /  / /___/ /_/ // /__ / /<    /_/\n",
            "  \\____/ \\____/ \\____/ \\____/  /_____/\\____/ \\___//_/|_|  (_)\n",
            "    \n",
            "Version Information: \n",
            "\tPyTorch: 2.0.1+cu118\n",
            "\tTorchVision: 0.15.2+cu118\n",
            "\tMMCV: 1.7.1\n",
            "2023-07-18 01:16:49,788 INFO: \n",
            "  name: 052_ESRGAN_WT_Pixel_x4_f64b23_ImageNet_400k_B16G2_051pretrain_wandb\n",
            "  model_type: ESRGANModel\n",
            "  scale: 4\n",
            "  num_gpu: 2\n",
            "  manual_seed: 0\n",
            "  datasets:[\n",
            "    train:[\n",
            "      name: ImageNet\n",
            "      type: PairedImageWTDataset\n",
            "      dataroot_gt: /disk_c/XXXX-4/data/ImageNet_lmdb/ImageNet_train_HR.lmdb\n",
            "      dataroot_lq: /disk_c/XXXX-4/data/ImageNet_lmdb/ImageNet_train_WT.lmdb\n",
            "      filename_tmpl: {}\n",
            "      io_backend:[\n",
            "        type: lmdb\n",
            "      ]\n",
            "      gt_size: 256\n",
            "      use_flip: True\n",
            "      use_rot: True\n",
            "      use_shuffle: True\n",
            "      num_worker_per_gpu: 6\n",
            "      batch_size_per_gpu: 16\n",
            "      dataset_enlarge_ratio: 100\n",
            "      prefetch_mode: None\n",
            "      phase: train\n",
            "      scale: 4\n",
            "    ]\n",
            "    val:[\n",
            "      name: ImageNet\n",
            "      type: PairedImageWTDataset\n",
            "      dataroot_gt: /disk_c/XXXX-4/data/ImageNet_lmdb/ImageNet_val_HR.lmdb\n",
            "      dataroot_lq: /disk_c/XXXX-4/data/ImageNet_lmdb/ImageNet_val_WT.lmdb\n",
            "      io_backend:[\n",
            "        type: h5df\n",
            "      ]\n",
            "      phase: val\n",
            "      scale: 4\n",
            "    ]\n",
            "  ]\n",
            "  network_g:[\n",
            "    type: MSRResNet_WT_Pixel\n",
            "    num_in_ch: 3\n",
            "    num_out_ch: 3\n",
            "    num_feat: 64\n",
            "    num_block: 16\n",
            "    upscale: 4\n",
            "  ]\n",
            "  network_d:[\n",
            "    type: VGGStyleDiscriminator128\n",
            "    num_in_ch: 3\n",
            "    num_feat: 64\n",
            "  ]\n",
            "  path:[\n",
            "    pretrain_model_g: None\n",
            "    strict_load: True\n",
            "    resume_state: None\n",
            "    root: /content\n",
            "    experiments_root: /content/experiments/052_ESRGAN_WT_Pixel_x4_f64b23_ImageNet_400k_B16G2_051pretrain_wandb\n",
            "    models: /content/experiments/052_ESRGAN_WT_Pixel_x4_f64b23_ImageNet_400k_B16G2_051pretrain_wandb/models\n",
            "    training_states: /content/experiments/052_ESRGAN_WT_Pixel_x4_f64b23_ImageNet_400k_B16G2_051pretrain_wandb/training_states\n",
            "    log: /content/experiments/052_ESRGAN_WT_Pixel_x4_f64b23_ImageNet_400k_B16G2_051pretrain_wandb\n",
            "    visualization: /content/experiments/052_ESRGAN_WT_Pixel_x4_f64b23_ImageNet_400k_B16G2_051pretrain_wandb/visualization\n",
            "  ]\n",
            "  train:[\n",
            "    optim_g:[\n",
            "      type: Adam\n",
            "      lr: 0.0001\n",
            "      weight_decay: 0\n",
            "      betas: [0.9, 0.99]\n",
            "    ]\n",
            "    optim_d:[\n",
            "      type: Adam\n",
            "      lr: 0.0001\n",
            "      weight_decay: 0\n",
            "      betas: [0.9, 0.99]\n",
            "    ]\n",
            "    scheduler:[\n",
            "      type: MultiStepLR\n",
            "      milestones: [50000, 100000, 200000, 300000]\n",
            "      gamma: 0.5\n",
            "    ]\n",
            "    total_iter: 400000\n",
            "    warmup_iter: -1\n",
            "    pixel_opt:[\n",
            "      type: L1Loss\n",
            "      loss_weight: 0.01\n",
            "      reduction: mean\n",
            "    ]\n",
            "    perceptual_opt:[\n",
            "      type: PerceptualLoss\n",
            "      layer_weights:[\n",
            "        conv5_4: 1\n",
            "      ]\n",
            "      vgg_type: vgg19\n",
            "      use_input_norm: True\n",
            "      perceptual_weight: 1.0\n",
            "      style_weight: 0\n",
            "      norm_img: False\n",
            "      criterion: l1\n",
            "    ]\n",
            "    gan_opt:[\n",
            "      type: GANLoss\n",
            "      gan_type: vanilla\n",
            "      real_label_val: 1.0\n",
            "      fake_label_val: 0.0\n",
            "      loss_weight: 0.005\n",
            "    ]\n",
            "    net_d_iters: 1\n",
            "    net_d_init_iters: 0\n",
            "  ]\n",
            "  val:[\n",
            "    val_freq: 10000.0\n",
            "    save_img: True\n",
            "    metrics:[\n",
            "      psnr:[\n",
            "        type: calculate_psnr\n",
            "        crop_border: 4\n",
            "        test_y_channel: False\n",
            "      ]\n",
            "    ]\n",
            "  ]\n",
            "  logger:[\n",
            "    print_freq: 100\n",
            "    save_checkpoint_freq: 5000.0\n",
            "    use_tb_logger: True\n",
            "    wandb:[\n",
            "      project: basicsr-esrgan-wt-pixel\n",
            "      resume_id: None\n",
            "    ]\n",
            "  ]\n",
            "  dist_params:[\n",
            "    backend: nccl\n",
            "    port: 29500\n",
            "  ]\n",
            "  is_train: True\n",
            "  dist: False\n",
            "  rank: 0\n",
            "  world_size: 1\n",
            "\n",
            "Path already exists. Rename it to ./tb_logger/052_ESRGAN_WT_Pixel_x4_f64b23_ImageNet_400k_B16G2_051pretrain_wandb_archived_20230718_011649\n",
            "2023-07-18 01:16:50.115000: I tensorflow/core/platform/cpu_feature_guard.cc:182] This TensorFlow binary is optimized to use available CPU instructions in performance-critical operations.\n",
            "To enable the following instructions: AVX2 FMA, in other operations, rebuild TensorFlow with the appropriate compiler flags.\n",
            "2023-07-18 01:16:51.035501: W tensorflow/compiler/tf2tensorrt/utils/py_utils.cc:38] TF-TRT Warning: Could not find TensorRT\n",
            "2023-07-18 01:16:52,054 INFO: NumExpr defaulting to 2 threads.\n",
            "\u001b[34m\u001b[1mwandb\u001b[0m: (1) Create a W&B account\n",
            "\u001b[34m\u001b[1mwandb\u001b[0m: (2) Use an existing W&B account\n",
            "\u001b[34m\u001b[1mwandb\u001b[0m: (3) Don't visualize my results\n",
            "\u001b[34m\u001b[1mwandb\u001b[0m: Enter your choice: 3\n",
            "\u001b[34m\u001b[1mwandb\u001b[0m: You chose \"Don't visualize my results\"\n",
            "\u001b[34m\u001b[1mwandb\u001b[0m: \u001b[33mWARNING\u001b[0m `resume` will be ignored since W&B syncing is set to `offline`. Starting a new run with run id ydd8ut2y.\n",
            "\u001b[34m\u001b[1mwandb\u001b[0m: Tracking run with wandb version 0.15.5\n",
            "\u001b[34m\u001b[1mwandb\u001b[0m: W&B syncing is set to \u001b[1m`offline`\u001b[0m in this directory.  \n",
            "\u001b[34m\u001b[1mwandb\u001b[0m: Run \u001b[1m`wandb online`\u001b[0m or set \u001b[1mWANDB_MODE=online\u001b[0m to enable cloud syncing.\n",
            "2023-07-18 01:17:17,817 INFO: Use wandb logger with id=ydd8ut2y; project=basicsr-esrgan-wt-pixel.\n",
            "2023-07-18 01:17:17,817 INFO: Random seed: 0\n",
            "Traceback (most recent call last):\n",
            "  File \"/content/basicsr/train.py\", line 237, in <module>\n",
            "    main()\n",
            "  File \"/content/basicsr/train.py\", line 102, in main\n",
            "    train_set = create_dataset(dataset_opt)\n",
            "  File \"/content/basicsr/data/__init__.py\", line 48, in create_dataset\n",
            "    dataset = dataset_cls(dataset_opt)\n",
            "  File \"/content/basicsr/data/paired_image_wt_dataset.py\", line 58, in __init__\n",
            "    self.paths = paired_paths_from_lmdb(\n",
            "  File \"/content/basicsr/data/util.py\", line 205, in paired_paths_from_lmdb\n",
            "    with open(osp.join(input_folder, 'meta_info.txt')) as fin:\n",
            "FileNotFoundError: [Errno 2] No such file or directory: '/disk_c/XXXX-4/data/ImageNet_lmdb/ImageNet_train_WT.lmdb/meta_info.txt'\n",
            "\u001b[34m\u001b[1mwandb\u001b[0m: Waiting for W&B process to finish... \u001b[31m(failed 1).\u001b[0m\n",
            "\u001b[34m\u001b[1mwandb\u001b[0m: You can sync this run to the cloud by running:\n",
            "\u001b[34m\u001b[1mwandb\u001b[0m: \u001b[1mwandb sync /content/wandb/offline-run-20230718_011717-ydd8ut2y\u001b[0m\n",
            "\u001b[34m\u001b[1mwandb\u001b[0m: Find logs at: \u001b[35m\u001b[1m./wandb/offline-run-20230718_011717-ydd8ut2y/logs\u001b[0m\n"
          ]
        }
      ]
    },
    {
      "cell_type": "code",
      "source": [],
      "metadata": {
        "id": "hGVsIgf8dqZn"
      },
      "execution_count": null,
      "outputs": []
    }
  ]
}